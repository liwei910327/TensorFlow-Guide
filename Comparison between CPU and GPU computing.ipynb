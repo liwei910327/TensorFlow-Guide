{
 "cells": [
  {
   "cell_type": "markdown",
   "id": "bb7474aa",
   "metadata": {},
   "source": [
    "# Setup"
   ]
  },
  {
   "cell_type": "code",
   "execution_count": 1,
   "id": "fc489ba2",
   "metadata": {},
   "outputs": [],
   "source": [
    "import tensorflow as tf\n",
    "from tensorflow.keras import * \n",
    "import time"
   ]
  },
  {
   "cell_type": "markdown",
   "id": "c9f9a23e",
   "metadata": {},
   "source": [
    "# Configuration of GPU computing"
   ]
  },
  {
   "cell_type": "code",
   "execution_count": 2,
   "id": "c98ca5b8",
   "metadata": {},
   "outputs": [],
   "source": [
    "tf.config.set_soft_device_placement(True)\n",
    "tf.debugging.set_log_device_placement(True)"
   ]
  },
  {
   "cell_type": "code",
   "execution_count": 3,
   "id": "d70e808c",
   "metadata": {},
   "outputs": [],
   "source": [
    "gpus = tf.config.experimental.list_physical_devices('GPU')\n",
    "tf.config.experimental.set_visible_devices(gpus[0], 'GPU')\n",
    "tf.config.experimental.set_memory_growth(gpus[0], True)"
   ]
  },
  {
   "cell_type": "markdown",
   "id": "286748c5",
   "metadata": {},
   "source": [
    "# GPU computing"
   ]
  },
  {
   "cell_type": "code",
   "execution_count": 4,
   "id": "e838ce6e",
   "metadata": {
    "scrolled": true
   },
   "outputs": [
    {
     "name": "stdout",
     "output_type": "stream",
     "text": [
      "Executing op RandomUniform in device /job:localhost/replica:0/task:0/device:GPU:0\n",
      "Executing op Mul in device /job:localhost/replica:0/task:0/device:GPU:0\n",
      "Executing op Transpose in device /job:localhost/replica:0/task:0/device:GPU:0\n",
      "Executing op MatMul in device /job:localhost/replica:0/task:0/device:GPU:0\n",
      "Executing op Sum in device /job:localhost/replica:0/task:0/device:GPU:0\n",
      "gpu:  2.7602412700653076\n"
     ]
    }
   ],
   "source": [
    "t=time.time()\n",
    "with tf.device(\"/gpu:0\"):\n",
    "    tf.random.set_seed(0)\n",
    "    a = tf.random.uniform((10000,10000),minval = 0,maxval = 3.0)\n",
    "    c = tf.matmul(a, tf.transpose(a))\n",
    "    d = tf.reduce_sum(c)\n",
    "print('gpu: ', time.time()-t)"
   ]
  },
  {
   "cell_type": "markdown",
   "id": "bc078dbf",
   "metadata": {},
   "source": [
    "# CPU computing"
   ]
  },
  {
   "cell_type": "code",
   "execution_count": 5,
   "id": "554419c6",
   "metadata": {},
   "outputs": [
    {
     "name": "stdout",
     "output_type": "stream",
     "text": [
      "Executing op RandomUniform in device /job:localhost/replica:0/task:0/device:CPU:0\n",
      "Executing op Mul in device /job:localhost/replica:0/task:0/device:CPU:0\n",
      "Executing op Transpose in device /job:localhost/replica:0/task:0/device:CPU:0\n",
      "Executing op MatMul in device /job:localhost/replica:0/task:0/device:CPU:0\n",
      "Executing op Sum in device /job:localhost/replica:0/task:0/device:CPU:0\n",
      "cpu:  6.924645185470581\n"
     ]
    }
   ],
   "source": [
    "t=time.time()\n",
    "with tf.device(\"/cpu:0\"):\n",
    "    tf.random.set_seed(0)\n",
    "    a = tf.random.uniform((10000,10000),minval = 0,maxval = 3.0)\n",
    "    c = tf.matmul(a, tf.transpose(a))\n",
    "    d = tf.reduce_sum(c)\n",
    "print('cpu: ', time.time()-t)"
   ]
  }
 ],
 "metadata": {
  "kernelspec": {
   "display_name": "Python 3",
   "language": "python",
   "name": "python3"
  },
  "language_info": {
   "codemirror_mode": {
    "name": "ipython",
    "version": 3
   },
   "file_extension": ".py",
   "mimetype": "text/x-python",
   "name": "python",
   "nbconvert_exporter": "python",
   "pygments_lexer": "ipython3",
   "version": "3.9.5"
  }
 },
 "nbformat": 4,
 "nbformat_minor": 5
}
